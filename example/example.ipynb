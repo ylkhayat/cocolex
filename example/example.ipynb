{
  "nbformat": 4,
  "nbformat_minor": 0,
  "metadata": {
    "colab": {
      "provenance": [],
      "gpuType": "A100",
      "authorship_tag": "ABX9TyOHfXbOZR/JupDLQoJYx7PF",
      "include_colab_link": true
    },
    "kernelspec": {
      "name": "python3",
      "display_name": "Python 3"
    },
    "language_info": {
      "name": "python"
    },
    "accelerator": "GPU"
  },
  "cells": [
    {
      "cell_type": "markdown",
      "metadata": {
        "id": "view-in-github",
        "colab_type": "text"
      },
      "source": [
        "<a href=\"https://colab.research.google.com/github/ylkhayat/cocolex/blob/main/example/example.ipynb\" target=\"_parent\"><img src=\"https://colab.research.google.com/assets/colab-badge.svg\" alt=\"Open In Colab\"/></a>"
      ]
    },
    {
      "cell_type": "code",
      "source": [
        "!curl -L https://raw.githubusercontent.com/ylkhayat/cocolex/main/cocolex.py -o cocolex.py\n",
        "!mkdir -p example\n",
        "!curl -L https://raw.githubusercontent.com/ylkhayat/cocolex/main/example/dataloader_extras.py -o example/dataloader_extras.py\n",
        "!curl -L https://raw.githubusercontent.com/ylkhayat/cocolex/main/example/dataloader.py -o example/dataloader.py\n",
        "!touch example/__init__.py"
      ],
      "metadata": {
        "id": "RdQSITv724tk"
      },
      "execution_count": null,
      "outputs": []
    },
    {
      "cell_type": "code",
      "source": [
        "!pip install transformers==4.40.2 scikit-learn more-itertools faiss-cpu"
      ],
      "metadata": {
        "id": "nb0zQkXpNQJA"
      },
      "execution_count": null,
      "outputs": []
    },
    {
      "cell_type": "code",
      "source": [
        "from example.dataloader import *\n",
        "from example.dataloader_extras import *\n",
        "from cocolex import CoCoLex"
      ],
      "metadata": {
        "id": "kWKydazk288M"
      },
      "execution_count": null,
      "outputs": []
    },
    {
      "cell_type": "code",
      "source": [
        "cocolex_model = CoCoLex(model_name=\"mistralai/Mistral-7B-Instruct-v0.3\", device=0, compile=False, use_flash_attention=False)"
      ],
      "metadata": {
        "id": "yL_dm9N-9qK0"
      },
      "execution_count": null,
      "outputs": []
    },
    {
      "cell_type": "code",
      "source": [
        "import json\n",
        "\n",
        "config = {\n",
        "    \"dataset_ratio\": 1.0,\n",
        "    \"dataset\": \"oal_qa\",\n",
        "    \"setup\": \"bm25_relevant_passages_oracle_documents\",\n",
        "    \"split\": \"test\",\n",
        "    \"top_k_passages\": 3,\n",
        "    \"use_instructions\": True,\n",
        "}\n",
        "preprocessor = ModelInputPreprocessor(\n",
        "    config\n",
        ")\n",
        "work_dataset, _ = preprocessor.process_dataset(tokenizer=cocolex_model.tokenizer, max_tokens=cocolex_model.model.config.max_position_embeddings)"
      ],
      "metadata": {
        "id": "7lqYGY6G9uIa"
      },
      "execution_count": null,
      "outputs": []
    },
    {
      "cell_type": "code",
      "source": [
        "new_record_processed = work_dataset[100]\n",
        "print(json.dumps(new_record_processed, indent=4))"
      ],
      "metadata": {
        "id": "hzrNdMAY90j6"
      },
      "execution_count": null,
      "outputs": []
    },
    {
      "cell_type": "code",
      "source": [
        "import textwrap\n",
        "\n",
        "contexts = [\n",
        "    f\"{new_record_processed['context_prefix']}\\n\\n{new_record_processed['context']}\",\n",
        "]\n",
        "\n",
        "prompts = [\n",
        "    new_record_processed[\"prompt\"],\n",
        "]\n",
        "\n",
        "references = contexts.copy()\n",
        "\n",
        "outputs = cocolex_model.generate(\n",
        "                            prompts=prompts,\n",
        "                            contexts=contexts,\n",
        "                            references=references,\n",
        "                            max_length=100,\n",
        "                            )"
      ],
      "metadata": {
        "id": "WMGtQylt92Sn"
      },
      "execution_count": null,
      "outputs": []
    },
    {
      "cell_type": "code",
      "source": [
        "def print_block(title, content, width=160):\n",
        "    print(\"=\" * width)\n",
        "    print(f\"{title}:\")\n",
        "    print(\"-\" * width)\n",
        "    print(\"\\n\".join(textwrap.wrap(content, width=width)))\n",
        "    print()\n",
        "\n",
        "context = contexts[0]\n",
        "prompt = prompts[0]\n",
        "generation = cocolex_model.tokenizer.batch_decode(\n",
        "    outputs, skip_special_tokens=True\n",
        ")[0]\n",
        "\n",
        "print_block(\"Contexts\", context)\n",
        "print_block(\"Prompts\", prompt)\n",
        "print_block(\"Generation\", generation)"
      ],
      "metadata": {
        "id": "Iu-46bnVB0Pd"
      },
      "execution_count": null,
      "outputs": []
    }
  ]
}
